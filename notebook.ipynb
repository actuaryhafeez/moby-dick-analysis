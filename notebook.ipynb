{
 "cells": [
  {
   "attachments": {},
   "cell_type": "markdown",
   "id": "8db443f3",
   "metadata": {},
   "source": [
    "# Project Question\n",
    "### Main Question 1\n",
    "What are the most frequent words in the novel \"Moby Dick\" by Herman Melville and what is the frequency of their occurrence?\n",
    "\n",
    "#### Sub-Question 1.1\n",
    "How can we scrape the novel from the Project Gutenberg website using Python?\n",
    "\n",
    "In this notebook, we will explore the text of Moby Dick, extract the words, and use natural language processing tools to analyze the distribution of words. By the end of this notebook, we will have a visualization of the word frequency distributions and be able to answer the project question."
   ]
  },
  {
   "cell_type": "markdown",
   "id": "5879328a",
   "metadata": {},
   "source": [
    "## 1. Tools for text processing\n",
    "<p><img style=\"float: right ; margin: 5px 20px 5px 10px; width: 45%\" src=\"datasets/Moby_Dick_p510_illustration.jpg\" </p>\n",
    "    \n",
    "This notebook demonstrates how to scrape the novel <em>Moby Dick</em> from the website <a href=\"https://www.gutenberg.org/\">Project Gutenberg</a>, extract words from the text using the Python package <code>requests</code> and <code>BeautifulSoup</code>, and analyze the frequency distribution of words using the Natural Language Toolkit (<code>nltk</code>). <p>The goal is to determine the most common words in the novel and how often they occur. The techniques presented in this notebook can be applied to any novel available on Project Gutenberg, and the natural language processing tools used are useful for analyzing unstructured text data commonly encountered in data science.</p> <p>The notebook assumes the use of Python and imports the packages necessary for the analysis.</p>"
   ]
  },
  {
   "cell_type": "code",
   "execution_count": 1,
   "id": "ddf76a04",
   "metadata": {},
   "outputs": [],
   "source": [
    "# Importing requests, BeautifulSoup and nltk\n",
    "import requests\n",
    "from bs4 import BeautifulSoup\n",
    "import nltk"
   ]
  },
  {
   "cell_type": "markdown",
   "id": "589b2a62",
   "metadata": {},
   "source": [
    "## 2. Request Moby Dick\n",
    "To perform analysis on Moby Dick, we need to obtain its contents from an online source. Fortunately, the text is freely available on Project Gutenberg's website as an HTML file:  [Link to Moby Dick](https://www.gutenberg.org/files/2701/2701-h/2701-h.htm)\n",
    "\n",
    "HTML (Hypertext Markup Language) is the standard markup language used for creating web pages.\n",
    "\n",
    "To obtain the HTML file of Moby Dick, we'll use the requests package to make a GET request to the website. This is similar to what happens when you visit a webpage through a browser, except that we'll be getting the requested page directly into Python instead of displaying it on a browser."
   ]
  },
  {
   "cell_type": "code",
   "execution_count": 2,
   "id": "77346327",
   "metadata": {},
   "outputs": [
    {
     "name": "stdout",
     "output_type": "stream",
     "text": [
      "<!DOCTYPE html PUBLIC \"-//W3C//DTD XHTML 1.0 Strict//EN\"\r\n",
      "\"http://www.w3.org/TR/xhtml1/DTD/xhtml1-strict.dtd\">\r\n",
      "<html xmlns=\"http://www.w3.org/1999/xhtml\" xml:lang=\"en\" lang=\"en\">\r\n",
      "<head>\r\n",
      "<meta http-equiv=\"Content-Type\" content=\"text/html;charset=utf-8\" />\r\n",
      "<meta http-equiv=\"Content-Style-Type\" content=\"text/css\" />\r\n",
      "<title>The Project Gutenberg eBook of Moby Dick; Or the Whale, by Herman Melville</title>\r\n",
      "\r\n",
      "<style type=\"text/css\" xml:space=\"preserve\">\r\n",
      "\r\n",
      "    body {margin-left:15%; margin-right:15%; text-align:justify }\r\n",
      "    p { text-indent: 1em; margin-top: .25em; margin-bottom: .25em; }\r\n",
      "    H1,H2,H3,H4,H5,H6 { text-align: center; margin-left: 15%; margin-right: 15%; }\r\n",
      "    hr  { width: 50%; text-align: center;}\r\n",
      "    blockquote {font-size: 100%; margin-left: 0%; margin-right: 0%;}\r\n",
      "    .mynote    {background-color: #DDE; color: #000; padding: .5em; margin-left: 10%; margin-right: 10%; font-family: sans-serif; font-size: 95%;}\r\n",
      "    .toc       { margin-left: 10%; margin-bottom: .75em;}\r\n",
      "    pre        { font-family: times new roman; font-size: 100%; margin-left: 10%;}\r\n",
      "\r\n",
      "    table      {margin-left: 10%;}\r\n",
      "\r\n",
      "a:link {color:blue;\r\n",
      "\t\ttext-decoration:none}\r\n",
      "link {color:blue;\r\n",
      "\t\ttext-decoration:none}\r\n",
      "a:visited {color:blue;\r\n",
      "\t\ttext-decoration:none}\r\n",
      "a:hover {color:red}\r\n",
      "\r\n",
      "</style>\r\n",
      "  </head>\r\n",
      "  <body>\r\n",
      "\r\n",
      "<div style='text-align:center; font-size:1.2em; font-weight:bold;'>The Project Gutenberg eBook of Moby-Dick; or The Whale, by Herman Melville</div>\r\n",
      "<div style='display:block; margin:1em 0'>\r\n",
      "This eBook is for the use of anyone anywhere in the United States and\r\n",
      "most other parts of the world at no cost and with almost no restrictions\r\n",
      "whatsoever. You may copy it, give it away or re-use it under the terms\r\n",
      "of the Project Gutenberg License included with this eBook or online\r\n",
      "at <a href=\"https://www.gutenberg.org\">www.gutenberg.org</a>. If you\r\n",
      "are not located in the United States, you will have to check the laws of the\r\n",
      "country where you are located before using this eBoo\n"
     ]
    }
   ],
   "source": [
    "response = requests.get('https://www.gutenberg.org/files/2701/2701-h/2701-h.htm')\n",
    "\n",
    "# Setting the correct text encoding of the HTML page\n",
    "response.encoding = 'utf-8'\n",
    "\n",
    "# Extracting the HTML from the request object\n",
    "html = response.text\n",
    "\n",
    "# Printing the first 2000 characters in html\n",
    "print(html[:2000])"
   ]
  },
  {
   "cell_type": "markdown",
   "id": "04f7a6e3",
   "metadata": {},
   "source": [
    "## 3. Get the text from the HTML\n",
    "\n",
    "We need to extract the text of Moby Dick from the HTML we fetched earlier. To do this, we'll use the <code>BeautifulSoup</code> package. <code>BeautifulSoup</code> is a Python library that makes it easy to scrape information from web pages.\n",
    "\n",
    "To begin with, we need to create a BeautifulSoup object from the HTML we fetched earlier. The BeautifulSoup object represents the parsed HTML document, and provides a range of methods for navigating and searching the document's structure. We can use the <code>.get_text()</code> method of the BeautifulSoup object to extract the text of the novel.\n",
    "\n"
   ]
  },
  {
   "cell_type": "code",
   "execution_count": 3,
   "id": "9ec9657f",
   "metadata": {},
   "outputs": [
    {
     "name": "stdout",
     "output_type": "stream",
     "text": [
      "inging up the rear\r\n",
      "      of every funeral I meet; and especially whenever my hypos get such an\r\n",
      "      upper hand of me, that it requires a strong moral principle to prevent me\r\n",
      "      from deliberately stepping into the street, and methodically knocking\r\n",
      "      people’s hats off—then, I account it high time to get to sea as soon\r\n",
      "      as I can. This is my substitute for pistol and ball. With a philosophical\r\n",
      "      flourish Cato throws himself upon his sword; I quietly take to the ship.\r\n",
      "      There is nothing surprising in this. If they but knew it, almost all men\r\n",
      "      in their degree, some time or other, cherish very nearly the same feelings\r\n",
      "      towards the ocean with me.\r\n",
      "    \n",
      "\r\n",
      "      There now is your insular city of the Manhattoes, belted round by wharves\r\n",
      "      as Indian isles by coral reefs—commerce surrounds it with her surf.\r\n",
      "      Right and left, the streets take you waterward. Its extreme downtown is\r\n",
      "      the battery, where that noble mole is washed by waves, and cooled by\r\n",
      "      breezes, which a few hours previous were out of sight of land. Look at the\r\n",
      "      crowds of water-gazers there.\r\n",
      "    \n",
      "\r\n",
      "      Circumambulate the city of a dreamy Sabbath afternoon. Go from Corlears\r\n",
      "      Hook to Coenties Slip, and from thence, by Whitehall, northward. What do\r\n",
      "      you see?—Posted like silent sentinels all around the town, stand\r\n",
      "      thousands upon thousands of mortal men fixed in ocean reveries. Some\r\n",
      "      leaning against the spiles; some seated upon the pier-heads; some looking\r\n",
      "      over the bulwarks of ships from China; some high aloft in the rigging, as\r\n",
      "      if striving to get a still better seaward peep. But these are all\r\n",
      "      landsmen; of week days pent up in lath and plaster—tied to counters,\r\n",
      "      nailed to benches, clinched to desks. How then is this? Are the green\r\n",
      "      fields gone? What do they here?\r\n",
      "    \n",
      "\r\n",
      "      But look! here come more crowds, pacing straight for the water, and\r\n",
      "      seemingly bound for a dive. Strange! Nothing w\n"
     ]
    }
   ],
   "source": [
    "# Creating a BeautifulSoup object from the HTML\n",
    "soup = BeautifulSoup(html)\n",
    "\n",
    "# Getting the text out of the soup\n",
    "text = soup.get_text()\n",
    "\n",
    "# Printing out text between characters 32000 and 34000\n",
    "print(text[32000: 34000])"
   ]
  },
  {
   "cell_type": "markdown",
   "id": "db9a25de",
   "metadata": {},
   "source": [
    "## 4. Extract the words\n",
    "After extracting the text of the novel, the next step is to tokenize the text and split it into a list of words. This can be achieved using the nltk package - the Natural Language Toolkit. Tokenization involves removing non-word characters such as whitespace, punctuation, etc. and splitting the text into a list of words.\n",
    "\n",
    "To tokenize the text, we can use the <code>nltk.tokenize</code> module, which provides several methods for tokenization. The most commonly used method is the <code>word_tokenize()</code> function, which tokenizes the text into words."
   ]
  },
  {
   "cell_type": "code",
   "execution_count": 4,
   "id": "f6f9c698",
   "metadata": {},
   "outputs": [
    {
     "name": "stdout",
     "output_type": "stream",
     "text": [
      "['The', 'Project', 'Gutenberg', 'eBook', 'of', 'Moby', 'Dick', 'Or']\n"
     ]
    }
   ],
   "source": [
    "# Creating a tokenizer\n",
    "tokenizer = nltk.tokenize.RegexpTokenizer('\\w+')\n",
    "\n",
    "# Tokenizing the text\n",
    "tokens = tokenizer.tokenize(text)\n",
    "\n",
    "# Printing out the first 8 words / tokens \n",
    "print(tokens[:8])"
   ]
  },
  {
   "cell_type": "markdown",
   "id": "544841d6",
   "metadata": {},
   "source": [
    "## 5. Make the words lowercase\n",
    "Note that in the above 'Or' has a capital 'O' and that in other places it may not, but both 'Or' and 'or' should be counted as the same word. For this reason, we should build a list of all words in Moby Dick in which all capital letters have been made lower case."
   ]
  },
  {
   "cell_type": "code",
   "execution_count": 5,
   "id": "758eadb8",
   "metadata": {},
   "outputs": [
    {
     "name": "stdout",
     "output_type": "stream",
     "text": [
      "['the', 'project', 'gutenberg', 'ebook', 'of', 'moby', 'dick', 'or']\n"
     ]
    }
   ],
   "source": [
    "# A new list to hold the lowercased words\n",
    "words = []\n",
    "\n",
    "# Looping through the tokens and make them lower case\n",
    "for word in tokens:\n",
    "    words.append(word.lower())\n",
    "\n",
    "# Printing out the first 8 words / tokens \n",
    "print(words[:8])"
   ]
  },
  {
   "cell_type": "markdown",
   "id": "24b8613f",
   "metadata": {},
   "source": [
    "## 6. Load in stop words\n",
    "\n",
    "It is common practice to remove words that appear a lot in the English language such as 'the', 'of' and 'a' because they're not so interesting. Such words are known as stop words. The package <code>nltk</code> includes a good list of stop words in English that we can use."
   ]
  },
  {
   "cell_type": "code",
   "execution_count": 6,
   "id": "ba782635",
   "metadata": {},
   "outputs": [
    {
     "name": "stdout",
     "output_type": "stream",
     "text": [
      "['i', 'me', 'my', 'myself', 'we', 'our', 'ours', 'ourselves']\n"
     ]
    }
   ],
   "source": [
    "# Getting the English stop words from nltk\n",
    "sw = nltk.corpus.stopwords.words('english')\n",
    "\n",
    "# Printing out the first eight stop words\n",
    "print(sw[:8])"
   ]
  },
  {
   "cell_type": "markdown",
   "id": "6c02de52",
   "metadata": {},
   "source": [
    "## 7. Remove stop words in Moby Dick\n",
    "Our goal now is to generate a new list of words from Moby Dick that excludes stop words, which are words that do not carry significant meaning such as \"the\", \"a\", \"an\", etc. These stop words are listed in the variable <code>sw</code>. One approach to creating this list is to iterate over all elements in the words list, and append each word to a new list if it is not a stop word."
   ]
  },
  {
   "cell_type": "code",
   "execution_count": 7,
   "id": "b32ef3e6",
   "metadata": {},
   "outputs": [
    {
     "name": "stdout",
     "output_type": "stream",
     "text": [
      "['project', 'gutenberg', 'ebook', 'moby', 'dick']\n"
     ]
    }
   ],
   "source": [
    "# A new list to hold Moby Dick with No Stop words\n",
    "words_ns = []\n",
    "\n",
    "# Appending to words_ns all words that are in words but not in sw\n",
    "for word in words:\n",
    "    if word not in sw:\n",
    "        words_ns.append(word)\n",
    "\n",
    "# Printing the first 5 words_ns to check that stop words are gone\n",
    "print(words_ns[:5])"
   ]
  },
  {
   "cell_type": "markdown",
   "id": "18ee28eb",
   "metadata": {},
   "source": [
    "## 8. We have the answer\n",
    "<p>Our original question was:</p>\n",
    "<blockquote>\n",
    "  <p>What are the most frequent words in the novel \"Moby Dick\" by Herman Melville and what is the frequency of their occurrence?</p>\n",
    "</blockquote>\n",
    "<p>We are now ready to answer that! Let's create a word frequency distribution plot using <code>nltk</code>. </p>"
   ]
  },
  {
   "cell_type": "code",
   "execution_count": 8,
   "id": "5bf366e4",
   "metadata": {},
   "outputs": [
    {
     "data": {
      "image/png": "[encoded data removed]",
      "text/plain": [
       "<Figure size 432x288 with 1 Axes>"
      ]
     },
     "metadata": {
      "needs_background": "light"
     },
     "output_type": "display_data"
    },
    {
     "data": {
      "text/plain": [
       "<AxesSubplot:xlabel='Samples', ylabel='Counts'>"
      ]
     },
     "execution_count": 8,
     "metadata": {},
     "output_type": "execute_result"
    }
   ],
   "source": [
    "# This command display figures inline\n",
    "%matplotlib inline\n",
    "\n",
    "# Creating the word frequency distribution\n",
    "freqdist = nltk.FreqDist(words_ns)\n",
    "\n",
    "# Plotting the word frequency distribution\n",
    "freqdist.plot(25)"
   ]
  },
  {
   "cell_type": "markdown",
   "id": "cc9dba44",
   "metadata": {},
   "source": [
    "## 9. The most common word\n",
    "\n",
    "Great job! The frequency distribution plot displayed above provides us with the solution to our question.\n",
    "\n",
    "The natural language processing applied in this notebook can also be employed to a significant amount of unstructured data, which constitutes a considerable portion of the data that Data Scientists typically encounter and encompasses extensive amounts of textual data.\n",
    "\n",
    "Therefore, which word emerged as the most frequent in Moby Dick, as expected?"
   ]
  },
  {
   "cell_type": "code",
   "execution_count": 9,
   "id": "c5077a3c",
   "metadata": {},
   "outputs": [],
   "source": [
    "# What's the most common word in Moby Dick?\n",
    "most_common_word = 'whale'"
   ]
  }
 ],
 "metadata": {
  "kernelspec": {
   "display_name": "Python 3 (ipykernel)",
   "language": "python",
   "name": "python3"
  },
  "language_info": {
   "codemirror_mode": {
    "name": "ipython",
    "version": 3
   },
   "file_extension": ".py",
   "mimetype": "text/x-python",
   "name": "python",
   "nbconvert_exporter": "python",
   "pygments_lexer": "ipython3",
   "version": "3.6.8"
  }
 },
 "nbformat": 4,
 "nbformat_minor": 5
}
